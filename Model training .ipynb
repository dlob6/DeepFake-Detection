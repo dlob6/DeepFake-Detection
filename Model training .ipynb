{
 "cells": [
  {
   "cell_type": "code",
   "execution_count": 1,
   "metadata": {},
   "outputs": [],
   "source": [
    "import pandas as pd\n",
    "import numpy as np\n",
    "import fastai\n",
    "from fastai.vision import *\n",
    "import torch\n",
    "from torch.utils.data import Dataset, DataLoader\n",
    "from torchvision import transforms\n",
    "import os\n",
    "import glob\n",
    "import json\n",
    "from skimage import io, transform"
   ]
  },
  {
   "cell_type": "markdown",
   "metadata": {},
   "source": [
    "# Requirements\n",
    "\n",
    "Data format:\n",
    "* Faces and STFTs must have been extracted with the notebook Extract faces and sound.ipynb.\n",
    "* In each video folder ('train_sample_videos', 'dfdc_train_videos_X', ...'), there must be a folder named 'face_frames' containing folders of faces and stfts for each video.\n",
    "\n",
    "Libraries:\n",
    "* pytorch\n",
    "* fastai"
   ]
  },
  {
   "cell_type": "code",
   "execution_count": 2,
   "metadata": {},
   "outputs": [],
   "source": [
    "PATH_ROOT_DIR = \"/media/dlo/New Volume/DeepFake/\"\n",
    "AUDIO_EXTENSION = \".jpg\"\n",
    "LABEL_FILE = \"metadata.json\"\n",
    "root_dirs = [\"train_sample_videos/\"]\n",
    "\n",
    "# train on all set\n",
    "#root_dirs = glob(f\"{PATH_ROOT_DIR}/*/\")"
   ]
  },
  {
   "cell_type": "code",
   "execution_count": 3,
   "metadata": {},
   "outputs": [],
   "source": [
    "###################################################################\n",
    "# Data preparation (indexing of extracted faces & stft per video) #\n",
    "# Custom pytorch dataset creation                                 #\n",
    "###################################################################\n",
    "\n",
    "# Data preparation\n",
    "class DeepFakeDF():\n",
    "    \"\"\" Indexes the faces & STFTs into a dataframe, to be used\n",
    "    by the pytorch dataset. processing is a bit long\"\"\"\n",
    "    def __init__(self, data_dirs, test = False):\n",
    "        self.data_dirs = [f\"{PATH_ROOT_DIR}{d}\" for d in data_dirs]\n",
    "        self.frame_dirs = [f\"{d}face_frames/\" for d in self.data_dirs]\n",
    "        \n",
    "        audio = []\n",
    "        video = []\n",
    "        for frame_dir in self.frame_dirs:\n",
    "            audio.extend(glob.glob(f\"{frame_dir}*/audio*\"))\n",
    "            video.extend(glob.glob(f\"{frame_dir}*/webcam*\"))\n",
    "            \n",
    "        if not test:\n",
    "            self.labels = self._get_labels()\n",
    "        else:\n",
    "            self.labels = {}\n",
    "            \n",
    "        self.video = video\n",
    "        self.df = self._prep_df_audio(audio)\n",
    "        self.video_dicts = self._prep_video_dicts(video)\n",
    "        self._merge_audio_video()\n",
    "        \n",
    "    def get_df(self):\n",
    "        return self.df\n",
    "        \n",
    "    def _get_labels(self):\n",
    "        labels = {}\n",
    "        for d in self.data_dirs:\n",
    "            with open(f\"{d}{LABEL_FILE}\", \"r\") as f:\n",
    "                labels.update({f\"{k.split('.mp4')[0]}\": v['label'] \n",
    "                             for k, v in json.load(f).items()})\n",
    "                \n",
    "        return labels\n",
    "    \n",
    "    def _merge_audio_video(self):\n",
    "        \"\"\"\n",
    "        Audio has 1 sample per frame in any case. But the face extractor may have \n",
    "        missed some faces. This function attempts to provide a face for each audio sample.\n",
    "        \"\"\"\n",
    "        self.df['dir'] = self.df['audio'].str.split(\"/\").str[-4]\n",
    "        \n",
    "        # Actor 0:\n",
    "        # Flagging frames for which actor 0 was detected\n",
    "        self.df['actor_0'] = [self.video_dicts[0].get(tuple(o),np.nan) \n",
    "                              for o in self.df[['video_name', 'sample']].values.tolist()]\n",
    "        \n",
    "        # Creating path variables for frames in which actor 0 was detected\n",
    "        act0 = self.df.loc[~self.df['actor_0'].isna()].copy()\n",
    "        act0['actor_0'] = (PATH_ROOT_DIR + act0['dir'] + \"/face_frames/\" + act0['video_name'] \n",
    "                           + \"/\" + \"webcam_\" + act0['sample'].astype(str) + \"_0\" \n",
    "                           + \".jpg\")\n",
    "        self.df.loc[~self.df['actor_0'].isna(), 'actor_0'] = act0\n",
    "        \n",
    "        # Actor 1:\n",
    "        # Flagging frames for which actor 1 was detected\n",
    "        self.df['actor_1'] = [self.video_dicts[1].get(tuple(o),np.nan) \n",
    "                              for o in self.df[['video_name', 'sample']].values.tolist()]\n",
    "        # Creating path variables for frames in which actor 1 was detected\n",
    "        act1 = self.df.loc[~self.df['actor_1'].isna()].copy()\n",
    "        act1['actor_1'] = (PATH_ROOT_DIR + act1['dir'] + \"/face_frames/\" + act1['video_name'] \n",
    "                           + \"/\" + \"webcam_\" + act1['sample'].astype(str) + \"_1\" \n",
    "                           + \".jpg\")\n",
    "        self.df.loc[~self.df['actor_1'].isna(), 'actor_1'] = act1\n",
    "        \n",
    "        # Filling NaNs. Forward fill per video name, so that missing faces are replaced\n",
    "        # by the previous detected face.\n",
    "        for vid in self.df['video_name'].unique():\n",
    "            cond = (self.df['video_name'] == vid)\n",
    "            \n",
    "            self.df.loc[cond,'actor_0'] = (self.df.loc[cond,'actor_0']\n",
    "                                           .fillna(method = 'ffill')\n",
    "                                           .fillna(method = 'bfill'))\n",
    "            \n",
    "            self.df.loc[cond,'actor_1'] = (self.df.loc[cond,'actor_1']\n",
    "                                           .fillna(method = 'ffill')\n",
    "                                           .fillna(method = 'bfill'))\n",
    "        \n",
    "        # As not all videos have two actors, for now, simply copying the 1st actor into the 2nd\n",
    "        # actor field when there is only 1 actor.\n",
    "        self.df.loc[self.df['actor_1'].isna(), 'actor_1'] = self.df['actor_0']\n",
    "        \n",
    "        for col in ['audio', 'actor_0', 'actor_1']:\n",
    "            self.df[col] = self.df[col].str.replace(PATH_ROOT_DIR,\"\")\n",
    "        \n",
    "    \n",
    "    def _prep_df_audio(self, audio):\n",
    "        \"\"\"Returns a dataframe indexed on frames of videos.\n",
    "        Contains the path to each .jpg of STFTs of video frames\"\"\"\n",
    "        df = pd.DataFrame(audio, columns = ['audio'])\n",
    "        df['video_name'] = df['audio'].str.split(\"/\").str[-2]\n",
    "        df['sample'] = df['audio'].str.split(\"/\").str[-1].str.split(\".\").str[0].str.split(\"_\").str[-1].astype(int)\n",
    "        df['label'] = df['video_name'].apply(lambda x: self.labels.get(x,\"\"))\n",
    "        df.sort_values(by=['video_name','sample'], inplace = True)\n",
    "        df['actor_0'] = \"\"\n",
    "        df['actor_1'] = \"\"\n",
    "        return df\n",
    "    \n",
    "    def _prep_video_dicts(self, video):\n",
    "        \"\"\"Returns dicts, one that tell if a face was detected in frames of videos,\n",
    "        and one that tells if a second face was detected in frames of videos.\"\"\"\n",
    "        video_name, frame_name = zip(*[o.split(\"/\")[-2:] for o in video])\n",
    "        samples, actors = zip(*[o.replace(\".jpg\",\"\").split(\"_\")[-2:] for o in frame_name])\n",
    "        samples = [int(o) for o in samples]\n",
    "        actors = [int(o) for o in actors]\n",
    "        actor_0_present = {(v, s) : a for v, s, a in zip(video_name, samples, actors) if a == 0}\n",
    "        actor_1_present = {(v, s) : a for v, s, a in zip(video_name, samples, actors) if a == 1}\n",
    "        return actor_0_present, actor_1_present\n",
    "\n",
    "    \n",
    "# Custom pytorch dataset\n",
    "class DeepFakeJPGDataset(Dataset):\n",
    "    \"\"\"DeepFakeJPGDataset. Opens .jpgs of either faces or STFTs for each frame of video.\n",
    "    Returns tensors of a concatenatetion of the video's frames.\"\"\"\n",
    "\n",
    "    def __init__(self, df, col_name, transform = None, downsample_factor = 1):\n",
    "        \"\"\"df[col_name] has to contain paths to .jpg files,\n",
    "        either of faces or of STFTs.\n",
    "        transform: resize images - all cropped faces don't have the same\n",
    "        shape, they won't fit together in a batch. Need to resize them,\n",
    "        use transforms.Resize((150,100)) for example. \n",
    "        downsample_factor: use > 1 to not use all the frames of a video\n",
    "        \"\"\"\n",
    "        self.x = df[col_name]\n",
    "        self.y = df['label'].astype('category').cat.codes.astype(int)\n",
    "        self.transform = transform\n",
    "        self.downsample_factor = int(downsample_factor)\n",
    "        self.col_name = col_name\n",
    "\n",
    "    def __len__(self): return len(self.y)\n",
    "\n",
    "    def __getitem__(self, idx):\n",
    "        if torch.is_tensor(idx):\n",
    "            idx = idx.tolist()\n",
    "            \n",
    "        list_image_paths = self.x.iloc[idx]\n",
    "        # Opening one every 'downsample_factor' image\n",
    "        images = [PIL.Image.open(PATH_ROOT_DIR + im) \n",
    "                  for im in list_image_paths[::self.downsample_factor]]\n",
    "        target = self.y.iloc[idx]\n",
    "        \n",
    "        # Resizing\n",
    "        if self.transform:\n",
    "            images = [self.transform(im) for im in images]\n",
    "            \n",
    "        # Normalizing the .jpgs to [-0.5, 0.5] both for \n",
    "        # faces and sound STFTs.\n",
    "        # TODO: Normalize faces with imagenet stats, as the \n",
    "        # model taking faces as input is pretrained on imagenet\n",
    "        images = [(np.array(im) / 255.0) - 0.5 for im in images]\n",
    "        \n",
    "        # Adding channel dimension to STFT images (grayscale)\n",
    "        if len(images[0].shape) == 2: \n",
    "            images = [im[...,None] for im in images]\n",
    "            \n",
    "        # (n_frames, channels, height, width)    \n",
    "        return torch.Tensor(images).permute(0,3,1,2)\n",
    "    \n",
    "class DeepFakeDetectionDataset(Dataset):\n",
    "    \"\"\"DeepFakeDetectionDataset. Merges faces & STFT datasets.\"\"\"\n",
    "    def __init__(self, x1, x2, y):\n",
    "        self.x1,self.x2,self.y = x1,x2,y\n",
    "    def __len__(self): return len(self.y)\n",
    "    def __getitem__(self, i): \n",
    "        return (self.x1[i], self.x2[i]), self.y[i]"
   ]
  },
  {
   "cell_type": "markdown",
   "metadata": {},
   "source": [
    "#### Data indexing"
   ]
  },
  {
   "cell_type": "code",
   "execution_count": 4,
   "metadata": {
    "scrolled": true
   },
   "outputs": [],
   "source": [
    "df = DeepFakeDF(root_dirs).get_df()"
   ]
  },
  {
   "cell_type": "code",
   "execution_count": 5,
   "metadata": {},
   "outputs": [
    {
     "data": {
      "text/html": [
       "<div>\n",
       "<style scoped>\n",
       "    .dataframe tbody tr th:only-of-type {\n",
       "        vertical-align: middle;\n",
       "    }\n",
       "\n",
       "    .dataframe tbody tr th {\n",
       "        vertical-align: top;\n",
       "    }\n",
       "\n",
       "    .dataframe thead th {\n",
       "        text-align: right;\n",
       "    }\n",
       "</style>\n",
       "<table border=\"1\" class=\"dataframe\">\n",
       "  <thead>\n",
       "    <tr style=\"text-align: right;\">\n",
       "      <th></th>\n",
       "      <th>audio</th>\n",
       "      <th>video_name</th>\n",
       "      <th>sample</th>\n",
       "      <th>label</th>\n",
       "      <th>actor_0</th>\n",
       "      <th>actor_1</th>\n",
       "      <th>dir</th>\n",
       "    </tr>\n",
       "  </thead>\n",
       "  <tbody>\n",
       "    <tr>\n",
       "      <th>300</th>\n",
       "      <td>train_sample_videos/face_frames/aagfhgtpmv/aud...</td>\n",
       "      <td>aagfhgtpmv</td>\n",
       "      <td>0</td>\n",
       "      <td>FAKE</td>\n",
       "      <td>train_sample_videos/face_frames/aagfhgtpmv/web...</td>\n",
       "      <td>train_sample_videos/face_frames/aagfhgtpmv/web...</td>\n",
       "      <td>train_sample_videos</td>\n",
       "    </tr>\n",
       "    <tr>\n",
       "      <th>301</th>\n",
       "      <td>train_sample_videos/face_frames/aagfhgtpmv/aud...</td>\n",
       "      <td>aagfhgtpmv</td>\n",
       "      <td>1</td>\n",
       "      <td>FAKE</td>\n",
       "      <td>train_sample_videos/face_frames/aagfhgtpmv/web...</td>\n",
       "      <td>train_sample_videos/face_frames/aagfhgtpmv/web...</td>\n",
       "      <td>train_sample_videos</td>\n",
       "    </tr>\n",
       "    <tr>\n",
       "      <th>498</th>\n",
       "      <td>train_sample_videos/face_frames/aagfhgtpmv/aud...</td>\n",
       "      <td>aagfhgtpmv</td>\n",
       "      <td>2</td>\n",
       "      <td>FAKE</td>\n",
       "      <td>train_sample_videos/face_frames/aagfhgtpmv/web...</td>\n",
       "      <td>train_sample_videos/face_frames/aagfhgtpmv/web...</td>\n",
       "      <td>train_sample_videos</td>\n",
       "    </tr>\n",
       "    <tr>\n",
       "      <th>586</th>\n",
       "      <td>train_sample_videos/face_frames/aagfhgtpmv/aud...</td>\n",
       "      <td>aagfhgtpmv</td>\n",
       "      <td>3</td>\n",
       "      <td>FAKE</td>\n",
       "      <td>train_sample_videos/face_frames/aagfhgtpmv/web...</td>\n",
       "      <td>train_sample_videos/face_frames/aagfhgtpmv/web...</td>\n",
       "      <td>train_sample_videos</td>\n",
       "    </tr>\n",
       "    <tr>\n",
       "      <th>597</th>\n",
       "      <td>train_sample_videos/face_frames/aagfhgtpmv/aud...</td>\n",
       "      <td>aagfhgtpmv</td>\n",
       "      <td>4</td>\n",
       "      <td>FAKE</td>\n",
       "      <td>train_sample_videos/face_frames/aagfhgtpmv/web...</td>\n",
       "      <td>train_sample_videos/face_frames/aagfhgtpmv/web...</td>\n",
       "      <td>train_sample_videos</td>\n",
       "    </tr>\n",
       "  </tbody>\n",
       "</table>\n",
       "</div>"
      ],
      "text/plain": [
       "                                                 audio  video_name  sample  \\\n",
       "300  train_sample_videos/face_frames/aagfhgtpmv/aud...  aagfhgtpmv       0   \n",
       "301  train_sample_videos/face_frames/aagfhgtpmv/aud...  aagfhgtpmv       1   \n",
       "498  train_sample_videos/face_frames/aagfhgtpmv/aud...  aagfhgtpmv       2   \n",
       "586  train_sample_videos/face_frames/aagfhgtpmv/aud...  aagfhgtpmv       3   \n",
       "597  train_sample_videos/face_frames/aagfhgtpmv/aud...  aagfhgtpmv       4   \n",
       "\n",
       "    label                                            actor_0  \\\n",
       "300  FAKE  train_sample_videos/face_frames/aagfhgtpmv/web...   \n",
       "301  FAKE  train_sample_videos/face_frames/aagfhgtpmv/web...   \n",
       "498  FAKE  train_sample_videos/face_frames/aagfhgtpmv/web...   \n",
       "586  FAKE  train_sample_videos/face_frames/aagfhgtpmv/web...   \n",
       "597  FAKE  train_sample_videos/face_frames/aagfhgtpmv/web...   \n",
       "\n",
       "                                               actor_1                  dir  \n",
       "300  train_sample_videos/face_frames/aagfhgtpmv/web...  train_sample_videos  \n",
       "301  train_sample_videos/face_frames/aagfhgtpmv/web...  train_sample_videos  \n",
       "498  train_sample_videos/face_frames/aagfhgtpmv/web...  train_sample_videos  \n",
       "586  train_sample_videos/face_frames/aagfhgtpmv/web...  train_sample_videos  \n",
       "597  train_sample_videos/face_frames/aagfhgtpmv/web...  train_sample_videos  "
      ]
     },
     "execution_count": 5,
     "metadata": {},
     "output_type": "execute_result"
    }
   ],
   "source": [
    "# Dataset format - indexed on frames, simple use case where predictions \n",
    "# are made independently on each frame\n",
    "df.head()"
   ]
  },
  {
   "cell_type": "code",
   "execution_count": 6,
   "metadata": {},
   "outputs": [
    {
     "data": {
      "text/html": [
       "<div>\n",
       "<style scoped>\n",
       "    .dataframe tbody tr th:only-of-type {\n",
       "        vertical-align: middle;\n",
       "    }\n",
       "\n",
       "    .dataframe tbody tr th {\n",
       "        vertical-align: top;\n",
       "    }\n",
       "\n",
       "    .dataframe thead th {\n",
       "        text-align: right;\n",
       "    }\n",
       "</style>\n",
       "<table border=\"1\" class=\"dataframe\">\n",
       "  <thead>\n",
       "    <tr style=\"text-align: right;\">\n",
       "      <th></th>\n",
       "      <th>video_name</th>\n",
       "      <th>audio</th>\n",
       "      <th>actor_0</th>\n",
       "      <th>label</th>\n",
       "    </tr>\n",
       "  </thead>\n",
       "  <tbody>\n",
       "    <tr>\n",
       "      <th>0</th>\n",
       "      <td>aagfhgtpmv</td>\n",
       "      <td>[train_sample_videos/face_frames/aagfhgtpmv/au...</td>\n",
       "      <td>[train_sample_videos/face_frames/aagfhgtpmv/we...</td>\n",
       "      <td>FAKE</td>\n",
       "    </tr>\n",
       "    <tr>\n",
       "      <th>1</th>\n",
       "      <td>aapnvogymq</td>\n",
       "      <td>[train_sample_videos/face_frames/aapnvogymq/au...</td>\n",
       "      <td>[train_sample_videos/face_frames/aapnvogymq/we...</td>\n",
       "      <td>FAKE</td>\n",
       "    </tr>\n",
       "    <tr>\n",
       "      <th>2</th>\n",
       "      <td>abarnvbtwb</td>\n",
       "      <td>[train_sample_videos/face_frames/abarnvbtwb/au...</td>\n",
       "      <td>[train_sample_videos/face_frames/abarnvbtwb/we...</td>\n",
       "      <td>REAL</td>\n",
       "    </tr>\n",
       "    <tr>\n",
       "      <th>3</th>\n",
       "      <td>abofeumbvv</td>\n",
       "      <td>[train_sample_videos/face_frames/abofeumbvv/au...</td>\n",
       "      <td>[train_sample_videos/face_frames/abofeumbvv/we...</td>\n",
       "      <td>FAKE</td>\n",
       "    </tr>\n",
       "    <tr>\n",
       "      <th>4</th>\n",
       "      <td>abqwwspghj</td>\n",
       "      <td>[train_sample_videos/face_frames/abqwwspghj/au...</td>\n",
       "      <td>[train_sample_videos/face_frames/abqwwspghj/we...</td>\n",
       "      <td>FAKE</td>\n",
       "    </tr>\n",
       "  </tbody>\n",
       "</table>\n",
       "</div>"
      ],
      "text/plain": [
       "   video_name                                              audio  \\\n",
       "0  aagfhgtpmv  [train_sample_videos/face_frames/aagfhgtpmv/au...   \n",
       "1  aapnvogymq  [train_sample_videos/face_frames/aapnvogymq/au...   \n",
       "2  abarnvbtwb  [train_sample_videos/face_frames/abarnvbtwb/au...   \n",
       "3  abofeumbvv  [train_sample_videos/face_frames/abofeumbvv/au...   \n",
       "4  abqwwspghj  [train_sample_videos/face_frames/abqwwspghj/au...   \n",
       "\n",
       "                                             actor_0 label  \n",
       "0  [train_sample_videos/face_frames/aagfhgtpmv/we...  FAKE  \n",
       "1  [train_sample_videos/face_frames/aapnvogymq/we...  FAKE  \n",
       "2  [train_sample_videos/face_frames/abarnvbtwb/we...  REAL  \n",
       "3  [train_sample_videos/face_frames/abofeumbvv/we...  FAKE  \n",
       "4  [train_sample_videos/face_frames/abqwwspghj/we...  FAKE  "
      ]
     },
     "execution_count": 6,
     "metadata": {},
     "output_type": "execute_result"
    }
   ],
   "source": [
    "# Dataset format - indexed on videos, use case where all the frames of a \n",
    "# video are used to make a TRUE/FAKE prediction.\n",
    "# Each video is assigned a list of all its extracted faces and all stfts.\n",
    "gb = df.groupby('video_name')\n",
    "audio = gb['audio'].apply(list)\n",
    "video = gb['actor_0'].apply(list)\n",
    "label = gb['label'].nth(0)\n",
    "df = pd.concat([audio,video,label],axis=1)\n",
    "df.reset_index(inplace = True)\n",
    "df.head()"
   ]
  },
  {
   "cell_type": "code",
   "execution_count": 7,
   "metadata": {
    "scrolled": true
   },
   "outputs": [],
   "source": [
    "# train/val split indices\n",
    "val_perc = 0.2\n",
    "n_val = int(val_perc*len(df))\n",
    "shuffled_idx = np.random.permutation(df.index.tolist())\n",
    "\n",
    "val_idx = shuffled_idx[:n_val]\n",
    "train_idx = shuffled_idx[n_val:]"
   ]
  },
  {
   "cell_type": "markdown",
   "metadata": {},
   "source": [
    "#### torch dataset creation"
   ]
  },
  {
   "cell_type": "code",
   "execution_count": 8,
   "metadata": {},
   "outputs": [],
   "source": [
    "downsample_factor = 30 # using one every 30 frames only\n",
    "n_frames = 300 // downsample_factor\n",
    "\n",
    "# train/val torch datasets & dataloaders\n",
    "tr_images = DeepFakeJPGDataset(df.iloc[train_idx].reset_index(drop = True), \n",
    "                               'actor_0', transforms.Resize((150,100)), downsample_factor)\n",
    "tr_sound = DeepFakeJPGDataset(df.iloc[train_idx].reset_index(drop = True),\n",
    "                               'audio', transforms.Resize((65,25)), downsample_factor)\n",
    "train_ds = DeepFakeDetectionDataset(tr_images, tr_sound, tr_images.y)\n",
    "train_dl = DataLoader(train_ds)\n",
    "\n",
    "val_images = DeepFakeJPGDataset(df.iloc[val_idx].reset_index(drop = True), \n",
    "                                'actor_0', transforms.Resize((150,100)), downsample_factor)\n",
    "val_sound = DeepFakeJPGDataset(df.iloc[val_idx].reset_index(drop = True), \n",
    "                               'audio', transforms.Resize((65,25)), downsample_factor)\n",
    "valid_ds = DeepFakeDetectionDataset(val_images, val_sound, val_images.y)\n",
    "valid_dl = DataLoader(valid_ds)\n",
    "\n",
    "# fastai databunch\n",
    "db = DataBunch(train_dl,valid_dl)\n",
    "db.batch_size = 8"
   ]
  },
  {
   "cell_type": "markdown",
   "metadata": {},
   "source": [
    "#### Models code"
   ]
  },
  {
   "cell_type": "code",
   "execution_count": 9,
   "metadata": {},
   "outputs": [],
   "source": [
    "##########\n",
    "# Models #\n",
    "##########\n",
    "\n",
    "# Frame embeddings\n",
    "def simple_fully_connected(layers, dropout, bn = True):\n",
    "    \"\"\"Returns a series of [BatchNorm1d, Dropout, Linear]*len(layers)\n",
    "    The size of the linear layers is given by 'layers'. \"\"\"\n",
    "    model_layers = []\n",
    "    activations = [nn.ReLU(inplace=True)] * (len(layers)-1)\n",
    "    for n_in, n_out, p, actn in zip(layers[:-1], layers[1:], dropout, activations):\n",
    "        model_layers += bn_drop_lin(n_in, n_out, p = p, actn = actn, bn = bn)\n",
    "    return nn.Sequential(*model_layers)\n",
    "\n",
    "# Global model\n",
    "class DeepFakeDetector(nn.Module):\n",
    "    \"\"\"DeepFakeDetectionModel. This model has three main parts:\n",
    "    -Face analyzer: convnet 2d pretrained on imagenet.\n",
    "    -STFT analyzer: convnet 2d.\n",
    "    -Face & STFT merger: fully connected network, takes the output of the two above networks\n",
    "        as input, and outputs a vector (small dimension) representation of the frame's video and\n",
    "        audio - frame embeddings.\n",
    "    -Video analyzer: once the three above network have processed all the frames of a video, \n",
    "        the concatenation of the frame embeddings is passed to a 4th network. This network sees\n",
    "        the entire video through its frame embeddings, and predicts the label TRUE/FAKE.\n",
    "        \n",
    "    Prediction errors are backpropagated to all the subnetworks.\n",
    "    \"\"\"\n",
    "    def __init__(self, model_face, model_stft, model_merge, model_video, n_frames): \n",
    "        super().__init__()\n",
    "        self.n_frames = n_frames\n",
    "        \n",
    "        # two conv heads\n",
    "        self.model_face = model_face\n",
    "        self.model_stft = model_stft\n",
    "        self.poolflat = fastai.layers.PoolFlatten()\n",
    "        \n",
    "        # frame embeddings\n",
    "        self.model_merge = model_merge\n",
    "        \n",
    "        # frame embeddings aggregator, and classifier\n",
    "        self.model_video = model_video\n",
    "\n",
    "    def forward(self, *x):\n",
    "        x_faces = x[0]\n",
    "        x_stfts = x[1]\n",
    "        \n",
    "        frame_embeddings = []\n",
    "        for frame in range(self.n_frames):\n",
    "            \n",
    "            x_face = self.model_face(x_faces[:,frame,:,:,:])\n",
    "            x_face = self.poolflat(x_face)\n",
    "            \n",
    "            x_stft = self.model_stft(x_stfts[:,frame,:,:,:])\n",
    "            \n",
    "            x = torch.cat([x_face, x_stft], dim=1)\n",
    "            x = self.model_merge(x)\n",
    "            \n",
    "            frame_embeddings.append(x)\n",
    "            \n",
    "        x = torch.cat(frame_embeddings, dim = 1)\n",
    "        x = x.view(x.size(0), -1)\n",
    "        x = self.model_video(x)\n",
    "        return F.log_softmax(x, dim = -1)\n"
   ]
  },
  {
   "cell_type": "markdown",
   "metadata": {},
   "source": [
    "#### Training"
   ]
  },
  {
   "cell_type": "code",
   "execution_count": 10,
   "metadata": {},
   "outputs": [],
   "source": [
    "# Submodels\n",
    "model_faces = create_body(fastai.vision.models.resnet18)\n",
    "\n",
    "model_stfts = simple_cnn(actns = [1,8,16,32,64], strides = [(2,1),(2,2),(2,2),(2,2)],\n",
    "                         bn = True)\n",
    "\n",
    "frame_embedding_size = 5\n",
    "merge_layers = [512 + 64, frame_embedding_size]\n",
    "model_merge_face_stfts = simple_fully_connected(merge_layers, dropout = [0.1]*len(merge_layers))\n",
    "\n",
    "model_video = nn.Linear(n_frames*merge_layers[-1],2)\n",
    "\n",
    "# Global model\n",
    "model = DeepFakeDetector(model_faces, model_stfts, model_merge_face_stfts, \n",
    "                             model_video, n_frames = n_frames)\n"
   ]
  },
  {
   "cell_type": "code",
   "execution_count": 11,
   "metadata": {},
   "outputs": [],
   "source": [
    "learn = Learner(db, model, metrics = [accuracy])"
   ]
  },
  {
   "cell_type": "code",
   "execution_count": 19,
   "metadata": {},
   "outputs": [],
   "source": [
    "(x1,x2), y = next(iter(db.train_dl))\n",
    "x1 = x1.to('cuda')\n",
    "x2 = x2.to('cuda')"
   ]
  },
  {
   "cell_type": "code",
   "execution_count": 13,
   "metadata": {},
   "outputs": [
    {
     "data": {
      "text/plain": [
       "torch.Size([8, 512, 5, 4])"
      ]
     },
     "execution_count": 13,
     "metadata": {},
     "output_type": "execute_result"
    }
   ],
   "source": [
    "model_faces(x1[:,0,:,:]).shape"
   ]
  },
  {
   "cell_type": "code",
   "execution_count": 14,
   "metadata": {},
   "outputs": [
    {
     "data": {
      "text/plain": [
       "torch.Size([8, 64])"
      ]
     },
     "execution_count": 14,
     "metadata": {},
     "output_type": "execute_result"
    }
   ],
   "source": [
    "model_stfts(x2[:,0,:,:]).shape"
   ]
  },
  {
   "cell_type": "code",
   "execution_count": 20,
   "metadata": {},
   "outputs": [
    {
     "data": {
      "text/plain": [
       "tensor([[-0.5874, -0.8115],\n",
       "        [-0.6218, -0.7700],\n",
       "        [-0.5247, -0.8958],\n",
       "        [-0.4894, -0.9493],\n",
       "        [-0.6853, -0.7011],\n",
       "        [-0.6751, -0.7115],\n",
       "        [-0.6604, -0.7270],\n",
       "        [-0.5439, -0.8686]], device='cuda:0', grad_fn=<LogSoftmaxBackward>)"
      ]
     },
     "execution_count": 20,
     "metadata": {},
     "output_type": "execute_result"
    }
   ],
   "source": [
    "model(x1,x2)"
   ]
  },
  {
   "cell_type": "code",
   "execution_count": 12,
   "metadata": {
    "scrolled": true
   },
   "outputs": [
    {
     "data": {
      "text/html": [],
      "text/plain": [
       "<IPython.core.display.HTML object>"
      ]
     },
     "metadata": {},
     "output_type": "display_data"
    },
    {
     "name": "stdout",
     "output_type": "stream",
     "text": [
      "LR Finder is complete, type {learner_name}.recorder.plot() to see the graph.\n"
     ]
    },
    {
     "data": {
      "image/png": "[encoded data removed]",
      "text/plain": [
       "<Figure size 432x288 with 1 Axes>"
      ]
     },
     "metadata": {
      "needs_background": "light"
     },
     "output_type": "display_data"
    }
   ],
   "source": [
    "learn = Learner(db, model, metrics = [accuracy])\n",
    "learn.lr_find()\n",
    "learn.recorder.plot()"
   ]
  },
  {
   "cell_type": "code",
   "execution_count": 13,
   "metadata": {
    "scrolled": true
   },
   "outputs": [
    {
     "data": {
      "text/html": [
       "Total time: 09:52 <p><table border=\"1\" class=\"dataframe\">\n",
       "  <thead>\n",
       "    <tr style=\"text-align: left;\">\n",
       "      <th>epoch</th>\n",
       "      <th>train_loss</th>\n",
       "      <th>valid_loss</th>\n",
       "      <th>accuracy</th>\n",
       "      <th>time</th>\n",
       "    </tr>\n",
       "  </thead>\n",
       "  <tbody>\n",
       "    <tr>\n",
       "      <td>0</td>\n",
       "      <td>0.649945</td>\n",
       "      <td>0.577973</td>\n",
       "      <td>0.712500</td>\n",
       "      <td>01:24</td>\n",
       "    </tr>\n",
       "    <tr>\n",
       "      <td>1</td>\n",
       "      <td>0.500811</td>\n",
       "      <td>0.426944</td>\n",
       "      <td>0.775000</td>\n",
       "      <td>01:24</td>\n",
       "    </tr>\n",
       "    <tr>\n",
       "      <td>2</td>\n",
       "      <td>0.458330</td>\n",
       "      <td>0.453005</td>\n",
       "      <td>0.775000</td>\n",
       "      <td>01:24</td>\n",
       "    </tr>\n",
       "    <tr>\n",
       "      <td>3</td>\n",
       "      <td>0.393657</td>\n",
       "      <td>0.464990</td>\n",
       "      <td>0.787500</td>\n",
       "      <td>01:24</td>\n",
       "    </tr>\n",
       "    <tr>\n",
       "      <td>4</td>\n",
       "      <td>0.292346</td>\n",
       "      <td>0.425390</td>\n",
       "      <td>0.812500</td>\n",
       "      <td>01:24</td>\n",
       "    </tr>\n",
       "    <tr>\n",
       "      <td>5</td>\n",
       "      <td>0.196943</td>\n",
       "      <td>0.432047</td>\n",
       "      <td>0.825000</td>\n",
       "      <td>01:24</td>\n",
       "    </tr>\n",
       "    <tr>\n",
       "      <td>6</td>\n",
       "      <td>0.137170</td>\n",
       "      <td>0.439046</td>\n",
       "      <td>0.825000</td>\n",
       "      <td>01:24</td>\n",
       "    </tr>\n",
       "  </tbody>\n",
       "</table>"
      ],
      "text/plain": [
       "<IPython.core.display.HTML object>"
      ]
     },
     "metadata": {},
     "output_type": "display_data"
    }
   ],
   "source": [
    "learn.fit_one_cycle(7,3*1e-4)"
   ]
  },
  {
   "cell_type": "code",
   "execution_count": 20,
   "metadata": {},
   "outputs": [],
   "source": [
    "# For inference on the test set\n",
    "learn.save('5_ep_1e-3')"
   ]
  }
 ],
 "metadata": {
  "kernelspec": {
   "display_name": "Python 3",
   "language": "python",
   "name": "python3"
  },
  "language_info": {
   "codemirror_mode": {
    "name": "ipython",
    "version": 3
   },
   "file_extension": ".py",
   "mimetype": "text/x-python",
   "name": "python",
   "nbconvert_exporter": "python",
   "pygments_lexer": "ipython3",
   "version": "3.7.3"
  }
 },
 "nbformat": 4,
 "nbformat_minor": 2
}
