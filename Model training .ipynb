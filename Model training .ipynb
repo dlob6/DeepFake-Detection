{
 "cells": [
  {
   "cell_type": "code",
   "execution_count": 1,
   "metadata": {},
   "outputs": [],
   "source": [
    "import numpy as np\n",
    "import pandas as pd\n",
    "import learning_utils\n",
    "from data_utils import DeepFakeDF, DeepFakeJPGDataset, DeepFakeDetectionDataset\n",
    "import torch\n",
    "from torch.utils.data import Dataset, DataLoader\n",
    "from torchvision import transforms\n",
    "import fastai\n",
    "import fastai.vision"
   ]
  },
  {
   "cell_type": "markdown",
   "metadata": {},
   "source": [
    "# Requirements\n",
    "\n",
    "Data format:\n",
    "* Faces and STFTs must have been extracted with the script extract_face_sound.py.\n",
    "* In each video folder ('train_sample_videos', 'dfdc_train_videos_X', ...'), there must be folders of faces and stfts for each video."
   ]
  },
  {
   "cell_type": "markdown",
   "metadata": {},
   "source": [
    "#### Data indexing"
   ]
  },
  {
   "cell_type": "code",
   "execution_count": 2,
   "metadata": {
    "scrolled": true
   },
   "outputs": [
    {
     "data": {
      "text/html": [
       "<div>\n",
       "<style scoped>\n",
       "    .dataframe tbody tr th:only-of-type {\n",
       "        vertical-align: middle;\n",
       "    }\n",
       "\n",
       "    .dataframe tbody tr th {\n",
       "        vertical-align: top;\n",
       "    }\n",
       "\n",
       "    .dataframe thead th {\n",
       "        text-align: right;\n",
       "    }\n",
       "</style>\n",
       "<table border=\"1\" class=\"dataframe\">\n",
       "  <thead>\n",
       "    <tr style=\"text-align: right;\">\n",
       "      <th></th>\n",
       "      <th>audio</th>\n",
       "      <th>video_name</th>\n",
       "      <th>sample</th>\n",
       "      <th>label</th>\n",
       "      <th>actor_0</th>\n",
       "      <th>actor_1</th>\n",
       "      <th>dir</th>\n",
       "    </tr>\n",
       "  </thead>\n",
       "  <tbody>\n",
       "    <tr>\n",
       "      <th>0</th>\n",
       "      <td>train_sample_videos/aagfhgtpmv/audio_0.jpg</td>\n",
       "      <td>aagfhgtpmv</td>\n",
       "      <td>0</td>\n",
       "      <td>FAKE</td>\n",
       "      <td>train_sample_videos/aagfhgtpmv/webcam_0_0.jpg</td>\n",
       "      <td>train_sample_videos/aagfhgtpmv/webcam_0_0.jpg</td>\n",
       "      <td>train_sample_videos</td>\n",
       "    </tr>\n",
       "    <tr>\n",
       "      <th>1</th>\n",
       "      <td>train_sample_videos/aagfhgtpmv/audio_1.jpg</td>\n",
       "      <td>aagfhgtpmv</td>\n",
       "      <td>1</td>\n",
       "      <td>FAKE</td>\n",
       "      <td>train_sample_videos/aagfhgtpmv/webcam_1_0.jpg</td>\n",
       "      <td>train_sample_videos/aagfhgtpmv/webcam_1_0.jpg</td>\n",
       "      <td>train_sample_videos</td>\n",
       "    </tr>\n",
       "    <tr>\n",
       "      <th>199</th>\n",
       "      <td>train_sample_videos/aagfhgtpmv/audio_2.jpg</td>\n",
       "      <td>aagfhgtpmv</td>\n",
       "      <td>2</td>\n",
       "      <td>FAKE</td>\n",
       "      <td>train_sample_videos/aagfhgtpmv/webcam_2_0.jpg</td>\n",
       "      <td>train_sample_videos/aagfhgtpmv/webcam_2_0.jpg</td>\n",
       "      <td>train_sample_videos</td>\n",
       "    </tr>\n",
       "    <tr>\n",
       "      <th>287</th>\n",
       "      <td>train_sample_videos/aagfhgtpmv/audio_3.jpg</td>\n",
       "      <td>aagfhgtpmv</td>\n",
       "      <td>3</td>\n",
       "      <td>FAKE</td>\n",
       "      <td>train_sample_videos/aagfhgtpmv/webcam_3_0.jpg</td>\n",
       "      <td>train_sample_videos/aagfhgtpmv/webcam_3_0.jpg</td>\n",
       "      <td>train_sample_videos</td>\n",
       "    </tr>\n",
       "    <tr>\n",
       "      <th>298</th>\n",
       "      <td>train_sample_videos/aagfhgtpmv/audio_4.jpg</td>\n",
       "      <td>aagfhgtpmv</td>\n",
       "      <td>4</td>\n",
       "      <td>FAKE</td>\n",
       "      <td>train_sample_videos/aagfhgtpmv/webcam_4_0.jpg</td>\n",
       "      <td>train_sample_videos/aagfhgtpmv/webcam_4_0.jpg</td>\n",
       "      <td>train_sample_videos</td>\n",
       "    </tr>\n",
       "  </tbody>\n",
       "</table>\n",
       "</div>"
      ],
      "text/plain": [
       "                                          audio  video_name  sample label  \\\n",
       "0    train_sample_videos/aagfhgtpmv/audio_0.jpg  aagfhgtpmv       0  FAKE   \n",
       "1    train_sample_videos/aagfhgtpmv/audio_1.jpg  aagfhgtpmv       1  FAKE   \n",
       "199  train_sample_videos/aagfhgtpmv/audio_2.jpg  aagfhgtpmv       2  FAKE   \n",
       "287  train_sample_videos/aagfhgtpmv/audio_3.jpg  aagfhgtpmv       3  FAKE   \n",
       "298  train_sample_videos/aagfhgtpmv/audio_4.jpg  aagfhgtpmv       4  FAKE   \n",
       "\n",
       "                                           actor_0  \\\n",
       "0    train_sample_videos/aagfhgtpmv/webcam_0_0.jpg   \n",
       "1    train_sample_videos/aagfhgtpmv/webcam_1_0.jpg   \n",
       "199  train_sample_videos/aagfhgtpmv/webcam_2_0.jpg   \n",
       "287  train_sample_videos/aagfhgtpmv/webcam_3_0.jpg   \n",
       "298  train_sample_videos/aagfhgtpmv/webcam_4_0.jpg   \n",
       "\n",
       "                                           actor_1                  dir  \n",
       "0    train_sample_videos/aagfhgtpmv/webcam_0_0.jpg  train_sample_videos  \n",
       "1    train_sample_videos/aagfhgtpmv/webcam_1_0.jpg  train_sample_videos  \n",
       "199  train_sample_videos/aagfhgtpmv/webcam_2_0.jpg  train_sample_videos  \n",
       "287  train_sample_videos/aagfhgtpmv/webcam_3_0.jpg  train_sample_videos  \n",
       "298  train_sample_videos/aagfhgtpmv/webcam_4_0.jpg  train_sample_videos  "
      ]
     },
     "execution_count": 2,
     "metadata": {},
     "output_type": "execute_result"
    }
   ],
   "source": [
    "df = DeepFakeDF([\"train_sample_videos/\"]).get_df()\n",
    "# Dataset format - indexed on frames, simple use case where predictions \n",
    "# are made independently on each frame\n",
    "df.head()"
   ]
  },
  {
   "cell_type": "code",
   "execution_count": 3,
   "metadata": {
    "scrolled": true
   },
   "outputs": [
    {
     "data": {
      "text/html": [
       "<div>\n",
       "<style scoped>\n",
       "    .dataframe tbody tr th:only-of-type {\n",
       "        vertical-align: middle;\n",
       "    }\n",
       "\n",
       "    .dataframe tbody tr th {\n",
       "        vertical-align: top;\n",
       "    }\n",
       "\n",
       "    .dataframe thead th {\n",
       "        text-align: right;\n",
       "    }\n",
       "</style>\n",
       "<table border=\"1\" class=\"dataframe\">\n",
       "  <thead>\n",
       "    <tr style=\"text-align: right;\">\n",
       "      <th></th>\n",
       "      <th>video_name</th>\n",
       "      <th>audio</th>\n",
       "      <th>actor_0</th>\n",
       "      <th>label</th>\n",
       "    </tr>\n",
       "  </thead>\n",
       "  <tbody>\n",
       "    <tr>\n",
       "      <th>0</th>\n",
       "      <td>aagfhgtpmv</td>\n",
       "      <td>[train_sample_videos/aagfhgtpmv/audio_0.jpg, t...</td>\n",
       "      <td>[train_sample_videos/aagfhgtpmv/webcam_0_0.jpg...</td>\n",
       "      <td>FAKE</td>\n",
       "    </tr>\n",
       "    <tr>\n",
       "      <th>1</th>\n",
       "      <td>aapnvogymq</td>\n",
       "      <td>[train_sample_videos/aapnvogymq/audio_0.jpg, t...</td>\n",
       "      <td>[train_sample_videos/aapnvogymq/webcam_0_0.jpg...</td>\n",
       "      <td>FAKE</td>\n",
       "    </tr>\n",
       "    <tr>\n",
       "      <th>2</th>\n",
       "      <td>abarnvbtwb</td>\n",
       "      <td>[train_sample_videos/abarnvbtwb/audio_0.jpg, t...</td>\n",
       "      <td>[train_sample_videos/abarnvbtwb/webcam_0_0.jpg...</td>\n",
       "      <td>REAL</td>\n",
       "    </tr>\n",
       "    <tr>\n",
       "      <th>3</th>\n",
       "      <td>abofeumbvv</td>\n",
       "      <td>[train_sample_videos/abofeumbvv/audio_0.jpg, t...</td>\n",
       "      <td>[train_sample_videos/abofeumbvv/webcam_0_0.jpg...</td>\n",
       "      <td>FAKE</td>\n",
       "    </tr>\n",
       "    <tr>\n",
       "      <th>4</th>\n",
       "      <td>abqwwspghj</td>\n",
       "      <td>[train_sample_videos/abqwwspghj/audio_0.jpg, t...</td>\n",
       "      <td>[train_sample_videos/abqwwspghj/webcam_0_0.jpg...</td>\n",
       "      <td>FAKE</td>\n",
       "    </tr>\n",
       "  </tbody>\n",
       "</table>\n",
       "</div>"
      ],
      "text/plain": [
       "   video_name                                              audio  \\\n",
       "0  aagfhgtpmv  [train_sample_videos/aagfhgtpmv/audio_0.jpg, t...   \n",
       "1  aapnvogymq  [train_sample_videos/aapnvogymq/audio_0.jpg, t...   \n",
       "2  abarnvbtwb  [train_sample_videos/abarnvbtwb/audio_0.jpg, t...   \n",
       "3  abofeumbvv  [train_sample_videos/abofeumbvv/audio_0.jpg, t...   \n",
       "4  abqwwspghj  [train_sample_videos/abqwwspghj/audio_0.jpg, t...   \n",
       "\n",
       "                                             actor_0 label  \n",
       "0  [train_sample_videos/aagfhgtpmv/webcam_0_0.jpg...  FAKE  \n",
       "1  [train_sample_videos/aapnvogymq/webcam_0_0.jpg...  FAKE  \n",
       "2  [train_sample_videos/abarnvbtwb/webcam_0_0.jpg...  REAL  \n",
       "3  [train_sample_videos/abofeumbvv/webcam_0_0.jpg...  FAKE  \n",
       "4  [train_sample_videos/abqwwspghj/webcam_0_0.jpg...  FAKE  "
      ]
     },
     "execution_count": 3,
     "metadata": {},
     "output_type": "execute_result"
    }
   ],
   "source": [
    "# Dataset format - indexed on videos, use case where all the frames of a \n",
    "# video are used to make a TRUE/FAKE prediction.\n",
    "# Each video is assigned a list of all its extracted faces and all stfts.\n",
    "gb = df.groupby('video_name')\n",
    "audio = gb['audio'].apply(list)\n",
    "video = gb['actor_0'].apply(list)\n",
    "label = gb['label'].nth(0)\n",
    "df = pd.concat([audio,video,label],axis=1)\n",
    "df.reset_index(inplace = True)\n",
    "df.head()"
   ]
  },
  {
   "cell_type": "code",
   "execution_count": 4,
   "metadata": {},
   "outputs": [
    {
     "data": {
      "text/plain": [
       "'test_df = DeepFakeDF([\"test_videos/\"], test = True).get_df()\\n\\ngb = test_df.groupby(\\'video_name\\')\\naudio = gb[\\'audio\\'].apply(list)\\nvideo = gb[\\'actor_0\\'].apply(list)\\nlabel = gb[\\'label\\'].nth(0)\\ntest_df = pd.concat([audio,video,label],axis=1)\\ntest_df.reset_index(inplace = True)'"
      ]
     },
     "execution_count": 4,
     "metadata": {},
     "output_type": "execute_result"
    }
   ],
   "source": [
    "\"\"\"test_df = DeepFakeDF([\"test_videos/\"], test = True).get_df()\n",
    "\n",
    "gb = test_df.groupby('video_name')\n",
    "audio = gb['audio'].apply(list)\n",
    "video = gb['actor_0'].apply(list)\n",
    "label = gb['label'].nth(0)\n",
    "test_df = pd.concat([audio,video,label],axis=1)\n",
    "test_df.reset_index(inplace = True)\"\"\""
   ]
  },
  {
   "cell_type": "code",
   "execution_count": 5,
   "metadata": {
    "scrolled": true
   },
   "outputs": [],
   "source": [
    "# train/val split indices\n",
    "val_perc = 0.2\n",
    "n_val = int(val_perc*len(df))\n",
    "shuffled_idx = np.random.permutation(df.index.tolist())\n",
    "\n",
    "val_idx = shuffled_idx[:n_val]\n",
    "train_idx = shuffled_idx[n_val:]"
   ]
  },
  {
   "cell_type": "markdown",
   "metadata": {},
   "source": [
    "#### torch dataset creation"
   ]
  },
  {
   "cell_type": "code",
   "execution_count": 6,
   "metadata": {},
   "outputs": [],
   "source": [
    "downsample_factor = 10 # using one every 10 frames only\n",
    "n_frames = 300 // downsample_factor\n",
    "\n",
    "# train/val torch datasets & dataloaders\n",
    "tr_images = DeepFakeJPGDataset(df.iloc[train_idx].reset_index(drop = True), \n",
    "                               'actor_0', transforms.Resize((150,100)), downsample_factor)\n",
    "tr_sound = DeepFakeJPGDataset(df.iloc[train_idx].reset_index(drop = True),\n",
    "                               'audio', transforms.Resize((65,25)), downsample_factor)\n",
    "train_ds = DeepFakeDetectionDataset(tr_images, tr_sound, tr_images.y)\n",
    "train_dl = DataLoader(train_ds)\n",
    "\n",
    "val_images = DeepFakeJPGDataset(df.iloc[val_idx].reset_index(drop = True), \n",
    "                                'actor_0', transforms.Resize((150,100)), downsample_factor)\n",
    "val_sound = DeepFakeJPGDataset(df.iloc[val_idx].reset_index(drop = True), \n",
    "                               'audio', transforms.Resize((65,25)), downsample_factor)\n",
    "valid_ds = DeepFakeDetectionDataset(val_images, val_sound, val_images.y)\n",
    "valid_dl = DataLoader(valid_ds)\n",
    "\n",
    "\"\"\"te_images = DeepFakeJPGDataset(test_df.reset_index(drop = True), \n",
    "                               'actor_0', transforms.Resize((150,100)), downsample_factor)\n",
    "te_sound = DeepFakeJPGDataset(test_df.reset_index(drop = True),\n",
    "                               'audio', transforms.Resize((65,25)), downsample_factor)\n",
    "test_ds = DeepFakeDetectionDataset(te_images, te_sound, te_images.y)\n",
    "test_dl = DataLoader(test_ds)\"\"\"\n",
    "\n",
    "# fastai databunch\n",
    "db = fastai.basic_data.DataBunch(train_dl,valid_dl) # test_dl\n",
    "db.batch_size = 16"
   ]
  },
  {
   "cell_type": "code",
   "execution_count": 8,
   "metadata": {},
   "outputs": [],
   "source": [
    "db.batch_size = 8"
   ]
  },
  {
   "cell_type": "markdown",
   "metadata": {},
   "source": [
    "#### Models code"
   ]
  },
  {
   "cell_type": "code",
   "execution_count": 9,
   "metadata": {
    "scrolled": true
   },
   "outputs": [],
   "source": [
    "# Submodels\n",
    "model_faces = fastai.vision.learner.create_body(fastai.vision.models.resnet18)\n",
    "\n",
    "model_stfts = fastai.vision.learner.simple_cnn(actns = [1,8,16,32,64],\n",
    "                                               strides = [(2,1),(2,2),(2,2),(1,1)],\n",
    "                                               bn = True)\n",
    "\n",
    "frame_embedding_size = 32\n",
    "merge_layers = [512 + 64, 100, frame_embedding_size]\n",
    "model_frame = learning_utils.fully_connected(merge_layers, dropout = [0.1]*len(merge_layers))\n",
    "\n",
    "model_video = learning_utils.VideoModel(frame_embedding_size, n_frames)\n",
    "# Global model\n",
    "model = learning_utils.DeepFakeDetector(model_faces, model_stfts, model_frame, \n",
    "                             model_video, n_frames = n_frames)\n"
   ]
  },
  {
   "cell_type": "code",
   "execution_count": 10,
   "metadata": {},
   "outputs": [],
   "source": [
    "learn = fastai.basic_train.Learner(db, model, metrics = [fastai.metrics.accuracy])#.load('20_ep_51e-4')\n",
    "learn.layer_groups = learn.model.layer_groups\n",
    "\n",
    "# Freezing the weights of the face model, as it is pretrained on imagenet\n",
    "learn.freeze_to(1)"
   ]
  },
  {
   "cell_type": "code",
   "execution_count": 8,
   "metadata": {
    "scrolled": true
   },
   "outputs": [],
   "source": [
    "(x1,x2), y = next(iter(db.train_dl))\n",
    "x1 = x1.to('cuda')\n",
    "x2 = x2.to('cuda')"
   ]
  },
  {
   "cell_type": "code",
   "execution_count": 9,
   "metadata": {},
   "outputs": [
    {
     "data": {
      "text/plain": [
       "tensor([[-0.9431, -0.4933],\n",
       "        [-0.9086, -0.5160],\n",
       "        [-0.8805, -0.5354],\n",
       "        [-1.0765, -0.4167],\n",
       "        [-0.7944, -0.6012],\n",
       "        [-0.8755, -0.5390],\n",
       "        [-0.9220, -0.5071],\n",
       "        [-0.9563, -0.4850]], device='cuda:0', grad_fn=<LogSoftmaxBackward>)"
      ]
     },
     "execution_count": 9,
     "metadata": {},
     "output_type": "execute_result"
    }
   ],
   "source": [
    "model(x1,x2)"
   ]
  },
  {
   "cell_type": "code",
   "execution_count": 35,
   "metadata": {},
   "outputs": [
    {
     "data": {
      "text/plain": [
       "torch.Size([8, 512, 5, 4])"
      ]
     },
     "execution_count": 35,
     "metadata": {},
     "output_type": "execute_result"
    }
   ],
   "source": [
    "model_faces(x1[:,0,:,:]).shape"
   ]
  },
  {
   "cell_type": "code",
   "execution_count": 36,
   "metadata": {},
   "outputs": [
    {
     "data": {
      "text/plain": [
       "torch.Size([8, 64])"
      ]
     },
     "execution_count": 36,
     "metadata": {},
     "output_type": "execute_result"
    }
   ],
   "source": [
    "model_stfts(x2[:,0,:,:]).shape"
   ]
  },
  {
   "cell_type": "code",
   "execution_count": 9,
   "metadata": {
    "scrolled": true
   },
   "outputs": [
    {
     "data": {
      "text/html": [],
      "text/plain": [
       "<IPython.core.display.HTML object>"
      ]
     },
     "metadata": {},
     "output_type": "display_data"
    },
    {
     "name": "stdout",
     "output_type": "stream",
     "text": [
      "LR Finder is complete, type {learner_name}.recorder.plot() to see the graph.\n"
     ]
    },
    {
     "data": {
      "image/png": "[encoded data removed]",
      "text/plain": [
       "<Figure size 432x288 with 1 Axes>"
      ]
     },
     "metadata": {
      "needs_background": "light"
     },
     "output_type": "display_data"
    }
   ],
   "source": [
    "learn.lr_find()\n",
    "learn.recorder.plot()"
   ]
  },
  {
   "cell_type": "code",
   "execution_count": 11,
   "metadata": {
    "scrolled": true
   },
   "outputs": [
    {
     "data": {
      "text/html": [
       "Total time: 11:42 <p><table border=\"1\" class=\"dataframe\">\n",
       "  <thead>\n",
       "    <tr style=\"text-align: left;\">\n",
       "      <th>epoch</th>\n",
       "      <th>train_loss</th>\n",
       "      <th>valid_loss</th>\n",
       "      <th>accuracy</th>\n",
       "      <th>time</th>\n",
       "    </tr>\n",
       "  </thead>\n",
       "  <tbody>\n",
       "    <tr>\n",
       "      <td>0</td>\n",
       "      <td>0.548196</td>\n",
       "      <td>0.416910</td>\n",
       "      <td>0.850000</td>\n",
       "      <td>03:55</td>\n",
       "    </tr>\n",
       "    <tr>\n",
       "      <td>1</td>\n",
       "      <td>0.551842</td>\n",
       "      <td>0.450061</td>\n",
       "      <td>0.850000</td>\n",
       "      <td>03:53</td>\n",
       "    </tr>\n",
       "    <tr>\n",
       "      <td>2</td>\n",
       "      <td>0.489863</td>\n",
       "      <td>0.430119</td>\n",
       "      <td>0.850000</td>\n",
       "      <td>03:53</td>\n",
       "    </tr>\n",
       "  </tbody>\n",
       "</table>"
      ],
      "text/plain": [
       "<IPython.core.display.HTML object>"
      ]
     },
     "metadata": {},
     "output_type": "display_data"
    }
   ],
   "source": [
    "learn.fit_one_cycle(3,slice(1e-3))"
   ]
  },
  {
   "cell_type": "code",
   "execution_count": 12,
   "metadata": {},
   "outputs": [],
   "source": [
    "# Unfreezing resnet18's weights\n",
    "learn.unfreeze()"
   ]
  },
  {
   "cell_type": "code",
   "execution_count": 13,
   "metadata": {},
   "outputs": [
    {
     "data": {
      "text/html": [
       "Total time: 40:08 <p><table border=\"1\" class=\"dataframe\">\n",
       "  <thead>\n",
       "    <tr style=\"text-align: left;\">\n",
       "      <th>epoch</th>\n",
       "      <th>train_loss</th>\n",
       "      <th>valid_loss</th>\n",
       "      <th>accuracy</th>\n",
       "      <th>time</th>\n",
       "    </tr>\n",
       "  </thead>\n",
       "  <tbody>\n",
       "    <tr>\n",
       "      <td>0</td>\n",
       "      <td>0.435167</td>\n",
       "      <td>0.428654</td>\n",
       "      <td>0.850000</td>\n",
       "      <td>04:00</td>\n",
       "    </tr>\n",
       "    <tr>\n",
       "      <td>1</td>\n",
       "      <td>0.419490</td>\n",
       "      <td>0.446085</td>\n",
       "      <td>0.837500</td>\n",
       "      <td>03:59</td>\n",
       "    </tr>\n",
       "    <tr>\n",
       "      <td>2</td>\n",
       "      <td>0.384100</td>\n",
       "      <td>0.457663</td>\n",
       "      <td>0.800000</td>\n",
       "      <td>04:01</td>\n",
       "    </tr>\n",
       "    <tr>\n",
       "      <td>3</td>\n",
       "      <td>0.324473</td>\n",
       "      <td>0.439723</td>\n",
       "      <td>0.812500</td>\n",
       "      <td>04:00</td>\n",
       "    </tr>\n",
       "    <tr>\n",
       "      <td>4</td>\n",
       "      <td>0.261511</td>\n",
       "      <td>0.413720</td>\n",
       "      <td>0.825000</td>\n",
       "      <td>04:00</td>\n",
       "    </tr>\n",
       "    <tr>\n",
       "      <td>5</td>\n",
       "      <td>0.205530</td>\n",
       "      <td>0.400054</td>\n",
       "      <td>0.825000</td>\n",
       "      <td>04:00</td>\n",
       "    </tr>\n",
       "    <tr>\n",
       "      <td>6</td>\n",
       "      <td>0.164947</td>\n",
       "      <td>0.384535</td>\n",
       "      <td>0.825000</td>\n",
       "      <td>04:01</td>\n",
       "    </tr>\n",
       "    <tr>\n",
       "      <td>7</td>\n",
       "      <td>0.136579</td>\n",
       "      <td>0.381233</td>\n",
       "      <td>0.825000</td>\n",
       "      <td>04:00</td>\n",
       "    </tr>\n",
       "    <tr>\n",
       "      <td>8</td>\n",
       "      <td>0.118782</td>\n",
       "      <td>0.378387</td>\n",
       "      <td>0.825000</td>\n",
       "      <td>04:01</td>\n",
       "    </tr>\n",
       "    <tr>\n",
       "      <td>9</td>\n",
       "      <td>0.109283</td>\n",
       "      <td>0.379333</td>\n",
       "      <td>0.825000</td>\n",
       "      <td>04:00</td>\n",
       "    </tr>\n",
       "  </tbody>\n",
       "</table>"
      ],
      "text/plain": [
       "<IPython.core.display.HTML object>"
      ]
     },
     "metadata": {},
     "output_type": "display_data"
    }
   ],
   "source": [
    "learn.fit_one_cycle(10,slice(1e-4))"
   ]
  },
  {
   "cell_type": "code",
   "execution_count": 12,
   "metadata": {},
   "outputs": [
    {
     "data": {
      "text/html": [
       "Total time: 13:43 <p><table border=\"1\" class=\"dataframe\">\n",
       "  <thead>\n",
       "    <tr style=\"text-align: left;\">\n",
       "      <th>epoch</th>\n",
       "      <th>train_loss</th>\n",
       "      <th>valid_loss</th>\n",
       "      <th>accuracy</th>\n",
       "      <th>time</th>\n",
       "    </tr>\n",
       "  </thead>\n",
       "  <tbody>\n",
       "    <tr>\n",
       "      <td>0</td>\n",
       "      <td>0.603848</td>\n",
       "      <td>0.540501</td>\n",
       "      <td>0.725000</td>\n",
       "      <td>01:23</td>\n",
       "    </tr>\n",
       "    <tr>\n",
       "      <td>1</td>\n",
       "      <td>0.405393</td>\n",
       "      <td>0.440084</td>\n",
       "      <td>0.812500</td>\n",
       "      <td>01:22</td>\n",
       "    </tr>\n",
       "    <tr>\n",
       "      <td>2</td>\n",
       "      <td>0.325628</td>\n",
       "      <td>0.435164</td>\n",
       "      <td>0.800000</td>\n",
       "      <td>01:22</td>\n",
       "    </tr>\n",
       "    <tr>\n",
       "      <td>3</td>\n",
       "      <td>0.304964</td>\n",
       "      <td>0.367607</td>\n",
       "      <td>0.862500</td>\n",
       "      <td>01:21</td>\n",
       "    </tr>\n",
       "    <tr>\n",
       "      <td>4</td>\n",
       "      <td>0.264422</td>\n",
       "      <td>0.386004</td>\n",
       "      <td>0.837500</td>\n",
       "      <td>01:22</td>\n",
       "    </tr>\n",
       "    <tr>\n",
       "      <td>5</td>\n",
       "      <td>0.207702</td>\n",
       "      <td>0.324583</td>\n",
       "      <td>0.862500</td>\n",
       "      <td>01:22</td>\n",
       "    </tr>\n",
       "    <tr>\n",
       "      <td>6</td>\n",
       "      <td>0.132341</td>\n",
       "      <td>0.315138</td>\n",
       "      <td>0.875000</td>\n",
       "      <td>01:22</td>\n",
       "    </tr>\n",
       "    <tr>\n",
       "      <td>7</td>\n",
       "      <td>0.074944</td>\n",
       "      <td>0.323226</td>\n",
       "      <td>0.875000</td>\n",
       "      <td>01:22</td>\n",
       "    </tr>\n",
       "    <tr>\n",
       "      <td>8</td>\n",
       "      <td>0.041357</td>\n",
       "      <td>0.328530</td>\n",
       "      <td>0.875000</td>\n",
       "      <td>01:22</td>\n",
       "    </tr>\n",
       "    <tr>\n",
       "      <td>9</td>\n",
       "      <td>0.025301</td>\n",
       "      <td>0.329194</td>\n",
       "      <td>0.875000</td>\n",
       "      <td>01:21</td>\n",
       "    </tr>\n",
       "  </tbody>\n",
       "</table>"
      ],
      "text/plain": [
       "<IPython.core.display.HTML object>"
      ]
     },
     "metadata": {},
     "output_type": "display_data"
    }
   ],
   "source": [
    "learn.fit_one_cycle(10,5*1e-4)"
   ]
  },
  {
   "cell_type": "code",
   "execution_count": 14,
   "metadata": {},
   "outputs": [],
   "source": [
    "# For inference on the test set\n",
    "learn.save('20_ep_51e-4')"
   ]
  },
  {
   "cell_type": "code",
   "execution_count": 16,
   "metadata": {},
   "outputs": [],
   "source": [
    "import matplotlib.pyplot as plt\n",
    "%matplotlib inline\n",
    "pr = learn.get_preds()\n"
   ]
  },
  {
   "cell_type": "code",
   "execution_count": 20,
   "metadata": {},
   "outputs": [
    {
     "data": {
      "text/plain": [
       "[<matplotlib.lines.Line2D at 0x7f7f4f304128>]"
      ]
     },
     "execution_count": 20,
     "metadata": {},
     "output_type": "execute_result"
    },
    {
     "data": {
      "image/png": "[encoded data removed]",
      "text/plain": [
       "<Figure size 432x288 with 1 Axes>"
      ]
     },
     "metadata": {
      "needs_background": "light"
     },
     "output_type": "display_data"
    }
   ],
   "source": [
    "plt.plot(pr[0][:,1].numpy())\n",
    "plt.plot(pr[1].numpy())"
   ]
  },
  {
   "cell_type": "code",
   "execution_count": 19,
   "metadata": {},
   "outputs": [
    {
     "data": {
      "text/plain": [
       "[<matplotlib.lines.Line2D at 0x7f7f4f1bd6a0>]"
      ]
     },
     "execution_count": 19,
     "metadata": {},
     "output_type": "execute_result"
    },
    {
     "data": {
      "image/png": "[encoded data removed]",
      "text/plain": [
       "<Figure size 432x288 with 1 Axes>"
      ]
     },
     "metadata": {
      "needs_background": "light"
     },
     "output_type": "display_data"
    }
   ],
   "source": [
    "plt.plot(pr[0][:,1].numpy())"
   ]
  },
  {
   "cell_type": "code",
   "execution_count": null,
   "metadata": {},
   "outputs": [],
   "source": []
  }
 ],
 "metadata": {
  "kernelspec": {
   "display_name": "Python 3",
   "language": "python",
   "name": "python3"
  },
  "language_info": {
   "codemirror_mode": {
    "name": "ipython",
    "version": 3
   },
   "file_extension": ".py",
   "mimetype": "text/x-python",
   "name": "python",
   "nbconvert_exporter": "python",
   "pygments_lexer": "ipython3",
   "version": "3.7.3"
  }
 },
 "nbformat": 4,
 "nbformat_minor": 2
}
